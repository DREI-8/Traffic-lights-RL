{
 "cells": [
  {
   "cell_type": "markdown",
   "metadata": {},
   "source": [
    "***\n",
    "\n",
    "<p style=\"text-align: center; font-size: 24px; font-weight: bold;\">Traffic Lights RL</p>\n",
    "<p style=\"text-align: center; font-size: 20px; font-weight: regular;\">application example and performance comparison</p>\n",
    "<p style=\"text-align: center; font-size: 20px; color: #00FF00; font-weight: regular;\">Théophile Baudry</p>\n",
    "\n",
    "***"
   ]
  },
  {
   "cell_type": "markdown",
   "metadata": {},
   "source": [
    "➤ Modules and libraries importation"
   ]
  },
  {
   "cell_type": "code",
   "execution_count": 1,
   "metadata": {},
   "outputs": [],
   "source": [
    "from Sim import SumoEnv\n",
    "from RL_agents import fixed_time_agent"
   ]
  },
  {
   "cell_type": "code",
   "execution_count": 2,
   "metadata": {},
   "outputs": [
    {
     "name": "stdout",
     "output_type": "stream",
     "text": [
      " Retrying in 1 seconds\n",
      "Step #0.00 (0ms ?*RT. ?UPS, TraCI: 11ms, vehicles TOT 0 ACT 0 BUF 0)                     \n",
      " Retrying in 1 seconds\n"
     ]
    },
    {
     "data": {
      "text/plain": [
       "-0.059999999999999776"
      ]
     },
     "execution_count": 2,
     "metadata": {},
     "output_type": "execute_result"
    }
   ],
   "source": [
    "env = SumoEnv(\"long_inter\", seed=888)\n",
    "obs = env.reset()\n",
    "agent = fixed_time_agent(env, 15, 15)\n",
    "agent.play_episode(False) # False for no visualization, returns the sum of rewards"
   ]
  },
  {
   "cell_type": "code",
   "execution_count": 3,
   "metadata": {},
   "outputs": [
    {
     "name": "stdout",
     "output_type": "stream",
     "text": [
      "Step #500.00 (4ms ~= 250.00*RT, ~3750.00UPS, TraCI: 12ms, vehicles TOT 101 ACT 15 BUF 0)  \n",
      " Retrying in 1 seconds\n",
      "Step #0.00 (0ms ?*RT. ?UPS, TraCI: 5ms, vehicles TOT 0 ACT 0 BUF 0)                      \n",
      " Retrying in 1 seconds\n"
     ]
    },
    {
     "data": {
      "text/plain": [
       "-0.6299999999999999"
      ]
     },
     "execution_count": 3,
     "metadata": {},
     "output_type": "execute_result"
    }
   ],
   "source": [
    "obs = env.reset()\n",
    "agent = fixed_time_agent(env, 10, 10)\n",
    "agent.play_episode(False)"
   ]
  }
 ],
 "metadata": {
  "kernelspec": {
   "display_name": "IA",
   "language": "python",
   "name": "python3"
  },
  "language_info": {
   "codemirror_mode": {
    "name": "ipython",
    "version": 3
   },
   "file_extension": ".py",
   "mimetype": "text/x-python",
   "name": "python",
   "nbconvert_exporter": "python",
   "pygments_lexer": "ipython3",
   "version": "3.12.3"
  }
 },
 "nbformat": 4,
 "nbformat_minor": 2
}
